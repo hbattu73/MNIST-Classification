{
 "cells": [
  {
   "cell_type": "markdown",
   "metadata": {},
   "source": [
    "# Least Squares Classifier on MNIST"
   ]
  },
  {
   "cell_type": "markdown",
   "metadata": {},
   "source": [
    "## Imports"
   ]
  },
  {
   "cell_type": "code",
   "execution_count": 1,
   "metadata": {},
   "outputs": [],
   "source": [
    "from mlxtend.data import loadlocal_mnist\n",
    "import platform\n",
    "import numpy as np\n",
    "import pandas as pd\n",
    "import seaborn as sb\n",
    "import matplotlib.pyplot as plt\n",
    "import time as time"
   ]
  },
  {
   "cell_type": "markdown",
   "metadata": {},
   "source": [
    "__Note:__ mlxtend can be installed by executing `pip install mlxtend`  "
   ]
  },
  {
   "cell_type": "markdown",
   "metadata": {},
   "source": [
    "## Setup\n",
    "These will be the global variables that I used throughout this project. `X` and `X_test` is the training and test set, respectively. `y` and `y_test` are the corresponding labels of the training and test set, respectively.  "
   ]
  },
  {
   "cell_type": "code",
   "execution_count": 2,
   "metadata": {},
   "outputs": [],
   "source": [
    "# Loading MNIST into NumPy Arrays\n",
    "if not platform.system() == 'Windows':\n",
    "    X, y = loadlocal_mnist(\n",
    "            images_path='train-images-idx3-ubyte', \n",
    "            labels_path='train-labels-idx1-ubyte')\n",
    "    X_test, y_test = loadlocal_mnist(\n",
    "            images_path='t10k-images-idx3-ubyte', \n",
    "            labels_path='t10k-labels-idx1-ubyte')\n",
    "\n",
    "else:\n",
    "    X, y = loadlocal_mnist(\n",
    "            images_path='train-images-idx3-ubyte', \n",
    "            labels_path='train-labels-idx1-ubyte')\n",
    "    X_test, y_test = loadlocal_mnist(\n",
    "            images_path='t10k-images-idx3-ubyte', \n",
    "            labels_path='t10k-labels-idx1-ubyte')"
   ]
  },
  {
   "cell_type": "code",
   "execution_count": 3,
   "metadata": {},
   "outputs": [
    {
     "name": "stdout",
     "output_type": "stream",
     "text": [
      "Dimensions: 60000 x 784\n",
      "\n",
      "1st row [  0   0   0   0   0   0   0   0   0   0   0   0   0   0   0   0   0   0\n",
      "   0   0   0   0   0   0   0   0   0   0   0   0   0   0   0   0   0   0\n",
      "   0   0   0   0   0   0   0   0   0   0   0   0   0   0   0   0   0   0\n",
      "   0   0   0   0   0   0   0   0   0   0   0   0   0   0   0   0   0   0\n",
      "   0   0   0   0   0   0   0   0   0   0   0   0   0   0   0   0   0   0\n",
      "   0   0   0   0   0   0   0   0   0   0   0   0   0   0   0   0   0   0\n",
      "   0   0   0   0   0   0   0   0   0   0   0   0   0   0   0   0   0   0\n",
      "   0   0   0   0   0   0   0   0   0   0   0   0   0   0   0   0   0   0\n",
      "   0   0   0   0   0   0   0   0   3  18  18  18 126 136 175  26 166 255\n",
      " 247 127   0   0   0   0   0   0   0   0   0   0   0   0  30  36  94 154\n",
      " 170 253 253 253 253 253 225 172 253 242 195  64   0   0   0   0   0   0\n",
      "   0   0   0   0   0  49 238 253 253 253 253 253 253 253 253 251  93  82\n",
      "  82  56  39   0   0   0   0   0   0   0   0   0   0   0   0  18 219 253\n",
      " 253 253 253 253 198 182 247 241   0   0   0   0   0   0   0   0   0   0\n",
      "   0   0   0   0   0   0   0   0  80 156 107 253 253 205  11   0  43 154\n",
      "   0   0   0   0   0   0   0   0   0   0   0   0   0   0   0   0   0   0\n",
      "   0  14   1 154 253  90   0   0   0   0   0   0   0   0   0   0   0   0\n",
      "   0   0   0   0   0   0   0   0   0   0   0   0   0 139 253 190   2   0\n",
      "   0   0   0   0   0   0   0   0   0   0   0   0   0   0   0   0   0   0\n",
      "   0   0   0   0   0  11 190 253  70   0   0   0   0   0   0   0   0   0\n",
      "   0   0   0   0   0   0   0   0   0   0   0   0   0   0   0   0  35 241\n",
      " 225 160 108   1   0   0   0   0   0   0   0   0   0   0   0   0   0   0\n",
      "   0   0   0   0   0   0   0   0   0  81 240 253 253 119  25   0   0   0\n",
      "   0   0   0   0   0   0   0   0   0   0   0   0   0   0   0   0   0   0\n",
      "   0   0  45 186 253 253 150  27   0   0   0   0   0   0   0   0   0   0\n",
      "   0   0   0   0   0   0   0   0   0   0   0   0   0  16  93 252 253 187\n",
      "   0   0   0   0   0   0   0   0   0   0   0   0   0   0   0   0   0   0\n",
      "   0   0   0   0   0   0   0 249 253 249  64   0   0   0   0   0   0   0\n",
      "   0   0   0   0   0   0   0   0   0   0   0   0   0   0  46 130 183 253\n",
      " 253 207   2   0   0   0   0   0   0   0   0   0   0   0   0   0   0   0\n",
      "   0   0   0   0  39 148 229 253 253 253 250 182   0   0   0   0   0   0\n",
      "   0   0   0   0   0   0   0   0   0   0   0   0  24 114 221 253 253 253\n",
      " 253 201  78   0   0   0   0   0   0   0   0   0   0   0   0   0   0   0\n",
      "   0   0  23  66 213 253 253 253 253 198  81   2   0   0   0   0   0   0\n",
      "   0   0   0   0   0   0   0   0   0   0  18 171 219 253 253 253 253 195\n",
      "  80   9   0   0   0   0   0   0   0   0   0   0   0   0   0   0   0   0\n",
      "  55 172 226 253 253 253 253 244 133  11   0   0   0   0   0   0   0   0\n",
      "   0   0   0   0   0   0   0   0   0   0 136 253 253 253 212 135 132  16\n",
      "   0   0   0   0   0   0   0   0   0   0   0   0   0   0   0   0   0   0\n",
      "   0   0   0   0   0   0   0   0   0   0   0   0   0   0   0   0   0   0\n",
      "   0   0   0   0   0   0   0   0   0   0   0   0   0   0   0   0   0   0\n",
      "   0   0   0   0   0   0   0   0   0   0   0   0   0   0   0   0   0   0\n",
      "   0   0   0   0   0   0   0   0   0   0   0   0   0   0   0   0   0   0\n",
      "   0   0   0   0   0   0   0   0   0   0]\n"
     ]
    }
   ],
   "source": [
    "print('Dimensions: %s x %s' % (X.shape[0], X.shape[1]))\n",
    "print('\\n1st row', X[0])"
   ]
  },
  {
   "cell_type": "code",
   "execution_count": 4,
   "metadata": {},
   "outputs": [
    {
     "name": "stdout",
     "output_type": "stream",
     "text": [
      "Digits:  0 1 2 3 4 5 6 7 8 9\n",
      "labels: [0 1 2 3 4 5 6 7 8 9]\n",
      "Class distribution: [5923 6742 5958 6131 5842 5421 5918 6265 5851 5949]\n"
     ]
    }
   ],
   "source": [
    "print('Digits:  0 1 2 3 4 5 6 7 8 9')\n",
    "print('labels: %s' % np.unique(y))\n",
    "print('Class distribution: %s' % np.bincount(y))"
   ]
  },
  {
   "cell_type": "markdown",
   "metadata": {},
   "source": [
    "## One vs. All Classifier\n",
    "The least squares multiclassification method for the MNIST digit classification can be represented as computing a least squares Boolean classifier for each of the 10 digits, encoded as <i>k</i> = 1,...,10: \n",
    "<div align = center> <i>f(x)<sub>prediction for k</sub></i> = <b>sign</b>(<i>x<sup>T</sup>β<sub>k</sub> + v<sub>k</sub></i>)</div>\n",
    "The ten Boolean classifiers are then combined into a multi-class classifier:\n",
    "<div align = center> <i>f(x)<sub>prediction</sub></i> = <b>argmax</b><sub><i>k = 1,...,10</i></sub>(<i>x<sup>T</sup>β<sub>k</sub> + v<sub>k</sub></i>)</div>"
   ]
  },
  {
   "cell_type": "markdown",
   "metadata": {},
   "source": [
    "To find <i>β<sub>k</sub></i> for each <i>k</i>, we can make use of the Ordinary Least Squared Estimator, which is denoted as:\n",
    "<div align = center> <i>β<sub>k</sub></i> = <i>(X<sup>T</sup>X)<sup>-1</sup>X<sup>T</sup>y<sub>k</sub></i> ,</div> \n",
    "where <i>X</i> is our <i>design matrix</i> (in this case, the training set) and <i>y<sub>k</sub></i> is the <i>target vector</i> for <i>k</i>. "
   ]
  },
  {
   "cell_type": "markdown",
   "metadata": {},
   "source": [
    "So to train the classifiers, I first needed to create the _target vector_ for each _k_. This was done by creating a vector where the elements are _+1_ if the associated value of the feature vector is equal to our current digit _k_, and _-1_ if not. I wrote the following methods __`target`__, for deriving the target vector for each _k_ and __`compute_targets`__, for storing them into a list."
   ]
  },
  {
   "cell_type": "code",
   "execution_count": 5,
   "metadata": {},
   "outputs": [],
   "source": [
    "def target(digit):\n",
    "    \"\"\" \n",
    "    Returns the target vector for the digit encoded by k, \n",
    "    where the elements are +1 if the kth training label == k \n",
    "    and -1 otherwise\n",
    "    \"\"\"\n",
    "    target = np.ones(len(y))\n",
    "    for i in range(len(y)):\n",
    "        if digit != y[i]:\n",
    "            target[i] = -1\n",
    "    return target "
   ]
  },
  {
   "cell_type": "code",
   "execution_count": 6,
   "metadata": {},
   "outputs": [],
   "source": [
    "def compute_targets():\n",
    "    \"\"\" \n",
    "    Returns a list containing the target vector for \n",
    "    each k\n",
    "    \"\"\"\n",
    "    targets = []\n",
    "    for i in range(10):\n",
    "        targets.append(target(i))\n",
    "    return targets"
   ]
  },
  {
   "cell_type": "markdown",
   "metadata": {},
   "source": [
    "I accounted for the bias term, <i>v<sub>k</sub></i>, by appending a 1 to the front of every feature vector of our design matrix, `X`. This means that when we compute <i>β<sub>k</sub></i>, <i>v<sub>k</sub></i> would be the first element of this vector. This functionality is defined in __`append_ones`__."
   ]
  },
  {
   "cell_type": "code",
   "execution_count": 7,
   "metadata": {},
   "outputs": [],
   "source": [
    "def append_ones(X):\n",
    "    \"\"\"\n",
    "    Append a 1 to every feature vector in the design matrix\n",
    "    \"\"\"\n",
    "    ones = np.ones((len(X), 1))\n",
    "    X = np.hstack((ones, X))    \n",
    "    return X"
   ]
  },
  {
   "cell_type": "markdown",
   "metadata": {},
   "source": [
    "Because matrix multiplications are computationally expensive in the sizes that we are dealing with, I decided to save each of the <i>β<sub>k</sub></i> vectors to a global scope after training each classifier once to avoid a large runtime. I defined the following method __`A`__, to calculate the matrix <i>(X<sup>T</sup>X)<sup>-1</sup>X<sup>T</sup></i>, which I denoted as <i>A</i>, and __`compute_betas`__, which calculated the <i>β<sub>k</sub></i> vectors by multiplying the matrix <i>A</i> with the target vector, <i>y<sub>k</sub></i>."
   ]
  },
  {
   "cell_type": "code",
   "execution_count": 8,
   "metadata": {},
   "outputs": [],
   "source": [
    "def A(X):\n",
    "    \"\"\"\n",
    "    Calculates the matrix A, where \n",
    "        A = (X^T*X)^-1(X^T)\n",
    "    \"\"\"\n",
    "    inner_prod = X.T.dot(X)\n",
    "    outer_prod = np.linalg.pinv(inner_prod).dot(X.T)\n",
    "    return outer_prod"
   ]
  },
  {
   "cell_type": "code",
   "execution_count": 9,
   "metadata": {},
   "outputs": [],
   "source": [
    "def compute_betas(A_matrix, targets):\n",
    "    \"\"\"\n",
    "    Calculates B_k for each k, and stores them into a list \n",
    "    that is returned\n",
    "    \n",
    "    B_k is determined by multiplying the matrix A with y_k\n",
    "    \"\"\"\n",
    "    betas = []\n",
    "    for i in range(10):\n",
    "        target_vector = targets[i]\n",
    "        betas.append(A_matrix.dot(target_vector))\n",
    "    return betas"
   ]
  },
  {
   "cell_type": "markdown",
   "metadata": {},
   "source": [
    "### Running the One vs All Classifier\n",
    "Now with all the helper functions defined, I wrote the following method, __`one_vs_all_classify`__, to perform One vs All Classification using the training set of 60,000 images. In this method, after training the classifiers, I tested the model using the test set of 10,000 images and returned an array of the predicted labels for every image in the test set."
   ]
  },
  {
   "cell_type": "code",
   "execution_count": 10,
   "metadata": {},
   "outputs": [],
   "source": [
    "def one_vs_all_classify():\n",
    "    \"\"\"\n",
    "    The classification model uses the the training set, X, to train a \n",
    "    least squares Boolean classifier on every k\n",
    "    \n",
    "    Once trained, every image of the test set, X_test, is passed to each of\n",
    "    the k Boolean classifiers\n",
    "    \"\"\"\n",
    "    \n",
    "    # Append 1's to X and X_test\n",
    "    design_matrix_train = append_ones(X) \n",
    "    design_matrix_test = append_ones(X_test)\n",
    "    \n",
    "    # Determine the matrix A, using ((X^T)X)^-1(X^T)\n",
    "    A_matrix = A(design_matrix_train)\n",
    "    # Determine the target vectors, y_k, and store into list\n",
    "    targets = compute_targets()\n",
    "    # Determine vectors B_k and store into list\n",
    "    betas = compute_betas(A_matrix, targets)                     \n",
    "    \n",
    "    # Initialize list for predicted labels\n",
    "    predicted_y = np.zeros(len(y_test))\n",
    "    \n",
    "    # Iterate through images in the test set\n",
    "    for i in range(len(X_test)):\n",
    "        outputs = np.zeros(10)\n",
    "        # Apply each classifier to the image\n",
    "        for j in range(10):\n",
    "            beta_vector = betas[j]\n",
    "            outputs[j] = design_matrix_test[i].dot(beta_vector)\n",
    "        # Index of max output after multiplying feature vector with B_k is the predicted label\n",
    "        predicted_y[i] = np.argmax(outputs)                      \n",
    "    return predicted_y"
   ]
  },
  {
   "cell_type": "code",
   "execution_count": 11,
   "metadata": {},
   "outputs": [
    {
     "name": "stdout",
     "output_type": "stream",
     "text": [
      "Total runtime for One vs All Classification was 7.452 seconds\n"
     ]
    }
   ],
   "source": [
    "# RUN THIS CELL TO PERFORM ONE VS ALL CLASSIFICATION\n",
    "start = time.time()\n",
    "one_vs_all_predicted = one_vs_all_classify()\n",
    "end = time.time()\n",
    "print('Total runtime for One vs All Classification was {} seconds'.format(round(end - start, 3)))"
   ]
  },
  {
   "cell_type": "markdown",
   "metadata": {},
   "source": [
    "### Confusion Matrix\n",
    "The following method, __`confusion_matrix`__ takes in our predicted and actual labels, and returns a confusion matrix."
   ]
  },
  {
   "cell_type": "code",
   "execution_count": 12,
   "metadata": {},
   "outputs": [],
   "source": [
    "def confusion_matrix(actual, predicted):\n",
    "    \"\"\"\n",
    "    Returns a confusion matrix by taking the predicted\n",
    "    and actual labels of the test set\n",
    "    \"\"\"\n",
    "    int_predicted = predicted.astype(int)\n",
    "    c_matrix = np.zeros([10, 10])\n",
    "    for i, digit in enumerate(actual):\n",
    "        c_matrix[digit][int_predicted[i]] += 1\n",
    "    return c_matrix.astype(int)"
   ]
  },
  {
   "cell_type": "markdown",
   "metadata": {},
   "source": [
    "The predicted labels are stored in `one_vs_all_predicted` which I passed in to __`confusion_matrix`__ along with the test labels, `y_test`."
   ]
  },
  {
   "cell_type": "code",
   "execution_count": 18,
   "metadata": {},
   "outputs": [
    {
     "name": "stdout",
     "output_type": "stream",
     "text": [
      "[[ 944    0    1    2    2    7   14    2    7    1]\n",
      " [   0 1107    2    2    3    1    5    1   14    0]\n",
      " [  18   54  813   26   15    0   42   22   37    5]\n",
      " [   4   17   23  880    5   17    9   21   22   12]\n",
      " [   0   22    6    1  881    5   10    2   11   44]\n",
      " [  23   18    3   72   24  659   23   14   39   17]\n",
      " [  18   10    9    0   22   17  875    0    7    0]\n",
      " [   5   40   16    6   26    0    1  884    0   50]\n",
      " [  14   46   11   30   27   40   15   12  759   20]\n",
      " [  15   11    2   17   80    1    1   77    4  801]]\n"
     ]
    }
   ],
   "source": [
    "# RUN THIS CELL TO PRINT OUT A CONFUSION MATRIX FOR ONE VS ALL\n",
    "one_vs_all_confusion = confusion_matrix(y_test, one_vs_all_predicted)\n",
    "print(one_vs_all_confusion)"
   ]
  },
  {
   "cell_type": "markdown",
   "metadata": {},
   "source": [
    "I visualized this confusion matrix in __`viz_confusion`__ through a heatmap with the help of Python's data visualization libary, _Seaborn_. In creating the function to visualize the confusion matrix, I referenced the code from this source : https://www.kaggle.com/agungor2/various-confusion-matrix-plots "
   ]
  },
  {
   "cell_type": "code",
   "execution_count": 19,
   "metadata": {},
   "outputs": [],
   "source": [
    "def viz_confusion(c_matrix, classifier_name):\n",
    "    \"\"\"\n",
    "    Visualizes the confusion matrix as a Seaborn heatmap\n",
    "    \n",
    "    Code was partially referenced from:\n",
    "    https://www.kaggle.com/agungor2/various-confusion-matrix-plots\n",
    "    \"\"\"\n",
    "    labels = np.array([0, 1, 2, 3, 4, 5, 6, 7, 8, 9])\n",
    "    visual = pd.DataFrame(c_matrix, columns = labels, index = labels)\n",
    "    plt.figure(figsize = (9, 5))\n",
    "    sb.heatmap(visual, cmap=\"Blues\", annot = True, fmt='d')\n",
    "    plt.title('Heatmap of Confusion Matrix for {}'.format(classifier_name))\n",
    "    plt.xlabel('Prediction', fontsize = 15)\n",
    "    plt.ylabel('Digit')"
   ]
  },
  {
   "cell_type": "code",
   "execution_count": 20,
   "metadata": {},
   "outputs": [
    {
     "data": {
      "image/png": "[encoded data removed]",
      "text/plain": [
       "<Figure size 648x360 with 2 Axes>"
      ]
     },
     "metadata": {
      "needs_background": "light"
     },
     "output_type": "display_data"
    }
   ],
   "source": [
    "# RUN THIS CELL TO PRODUCE A HEATMAP OF THE CONFUSION MATRIX\n",
    "viz_confusion(one_vs_all_confusion, 'One vs All Classifer')"
   ]
  },
  {
   "cell_type": "markdown",
   "metadata": {},
   "source": [
    "### Error Rate\n",
    "The _error rate_ is the total number of errors in the predicted labels divided by the total number of images classified. I defined __`err_rate`__ to compute the error rate of the classification model."
   ]
  },
  {
   "cell_type": "code",
   "execution_count": 21,
   "metadata": {},
   "outputs": [],
   "source": [
    "def err_rate(c_matrix):\n",
    "    \"\"\"\n",
    "    Computes the error rate from a given confusion matrix\n",
    "    \"\"\"\n",
    "    correct = 0 \n",
    "    for i in range(len(c_matrix)):\n",
    "        correct += c_matrix[i][i]\n",
    "    error_rate = (10000 - correct)/10000\n",
    "    return error_rate*100"
   ]
  },
  {
   "cell_type": "code",
   "execution_count": 22,
   "metadata": {},
   "outputs": [
    {
     "name": "stdout",
     "output_type": "stream",
     "text": [
      "The error rate for One vs All Classification is 13.97%\n"
     ]
    }
   ],
   "source": [
    "# RUN THIS CELL TO PRINT AN ERROR RATE FOR THE CLASSIFIER\n",
    "error_rate = err_rate(one_vs_all_confusion)\n",
    "print('The error rate for One vs All Classification is {}%'.format(round(error_rate, 2)))"
   ]
  },
  {
   "cell_type": "markdown",
   "metadata": {},
   "source": [
    "### Evaluation of the One vs All Classifier\n",
    "The _error rate_ on the test set of 10000 images approximately turned out to be 13.97%. Considering that the Boolean classifiers were trained exclusively on the training set, `X`, I would say an 86% classification rate is pretty successful. Though not perfect, the One vs All classifier managed to, for the most part, generalize the best fit line on a new test set of arbitrary handwritten images.  \n",
    "\n",
    "The most common error corresponds to when the digit is _9_, but was predicted to be _4_ as a total of 80 images were misclassified this way. This makes sense as the two numbers can be very similar when handwritten. Commmon misclassifications also included when _9_ was also predicted to be _7_, and _5_ was predicted to be _3_. I also assumed that the digit _8_ would get frequently misclassified as the digit _3_, but surprisingly _8_ was most commonly misidentified as _1_ or _5_. The most easily recognized digits by far seem to be _0_ and _1_, likely because they have the most distinct curvatures in shape. \n",
    "\n",
    "As for the computational performance, it took me a while to figure out how to effectively speed up the matrix multiplications. Initially, 10 iterations took me around 3 minutes. Extrapolating this to 10000 iterations (one iteration for every image in the test set), it would've taken me around 50 hours to train and test. I managed to work around this problem by training the Boolean classifiers first and saving the <i>β<sub>k</sub></i> vectors for each digit to a global scope in the method. That way for every image, I didn't have to calculate <i>β<sub>k</sub></i> again ten times for each digit. In the end, my runtime was drastically reduced to about 5 - 8 seconds, which I was very happy about."
   ]
  },
  {
   "cell_type": "markdown",
   "metadata": {},
   "source": [
    "## One vs One Classifier\n",
    "In this part, pairwise Boolean classifiers are constructed for every pair of classes _i_, _j_, where (_i_ < _j_). Thus, for every classifier, we are only considering the subset of `X` where the training labels for the feature vectors are of class _i_ and _j_.  There are a total of _K(K - 1)/2_ classifiers. For this data set, since _K_ = 10, there will be 45 one vs one classifiers that we would have to train.\n",
    "\n",
    "I would still have to create the target vectors, <i>y<sub>i,j</sub></i>, where the elements are +1 if the training label corresponds to class _i_ and -1 if the label corresponds to class _j_. But this time we will have to create 45 target vectors instead of 10, because there are 45 classifiers. And since I am also computing the <i>β<sub>i,j</sub></i> for 45 classifiers it makes sense to compute all of them at once and store them into a global scope again, since the One vs One Classifier will definitely be more computationally expensive. "
   ]
  },
  {
   "cell_type": "markdown",
   "metadata": {},
   "source": [
    "But first, I defined the following method, __`tuple_list`__, which computes all the possible pairs of classes given _K_."
   ]
  },
  {
   "cell_type": "code",
   "execution_count": 23,
   "metadata": {},
   "outputs": [],
   "source": [
    "def tuple_list(K):\n",
    "    \"\"\"\n",
    "    Returns a list of tuples that holds every pair of classes\n",
    "    in K classes\n",
    "    \"\"\"\n",
    "    tuples = []\n",
    "    i_start = 0\n",
    "    j_start = 1\n",
    "    for i in range(i_start, K - 1):\n",
    "        for j in range(j_start, K):\n",
    "            tuples.append((i, j))\n",
    "        i_start+=1\n",
    "        j_start+=1\n",
    "    return tuples"
   ]
  },
  {
   "cell_type": "code",
   "execution_count": 24,
   "metadata": {},
   "outputs": [
    {
     "name": "stdout",
     "output_type": "stream",
     "text": [
      "[(0, 1), (0, 2), (0, 3), (0, 4), (0, 5), (0, 6), (0, 7), (0, 8), (0, 9), (1, 2), (1, 3), (1, 4), (1, 5), (1, 6), (1, 7), (1, 8), (1, 9), (2, 3), (2, 4), (2, 5), (2, 6), (2, 7), (2, 8), (2, 9), (3, 4), (3, 5), (3, 6), (3, 7), (3, 8), (3, 9), (4, 5), (4, 6), (4, 7), (4, 8), (4, 9), (5, 6), (5, 7), (5, 8), (5, 9), (6, 7), (6, 8), (6, 9), (7, 8), (7, 9), (8, 9)]\n",
      "45 pairs in 10 classes\n"
     ]
    }
   ],
   "source": [
    "# RUN THIS CELL TO DEMONSTRATE METHOD FUNCTIONALITY\n",
    "print(tuple_list(10))\n",
    "print('{} pairs in 10 classes'.format(len(tuple_list(10))))"
   ]
  },
  {
   "cell_type": "markdown",
   "metadata": {},
   "source": [
    "I defined the following functions, __`target_pair`__ and __`compute_targets_pair`__ for creating target vectors, <i>y<sub>i,j</sub></i>, for every possible pair of classes _i_ and _j_, and storing them into a list."
   ]
  },
  {
   "cell_type": "code",
   "execution_count": 25,
   "metadata": {},
   "outputs": [],
   "source": [
    "# Creates a target vector for a pair of classes i and j\n",
    "def target_pair(class_i, class_j):\n",
    "    \"\"\"\n",
    "    Creates a target vector, y_{i,j}, for a pair of classes i and j\n",
    "    \"\"\"\n",
    "    y_labels = y[(y == class_i) | (y == class_j)]\n",
    "    target = np.ones(len(y_labels))\n",
    "    for i, digit in enumerate(y_labels):\n",
    "        if digit != class_i:\n",
    "            target[i] = -1\n",
    "    return target"
   ]
  },
  {
   "cell_type": "code",
   "execution_count": 26,
   "metadata": {},
   "outputs": [],
   "source": [
    "def compute_targets_pair(tuples):\n",
    "    \"\"\"\n",
    "    Takes a list of all possible pairs of classes i and j, and computes\n",
    "    a target vector, y_{i,j}, for each pair\n",
    "    \n",
    "    Returns a list of K(K-1)/2 target vectors\n",
    "    \"\"\"\n",
    "    targets = []\n",
    "    for _tuple in tuples:\n",
    "        target_vector = target_pair(_tuple[0], _tuple[1])\n",
    "        targets.append(target_vector)\n",
    "    return targets"
   ]
  },
  {
   "cell_type": "markdown",
   "metadata": {},
   "source": [
    "The following methods, __`A_pair`__, calculates the matrix <i>(X<sub>i,j</sub><sup>T</sup>X<sub>i,j</sub>)<sup>-1</sup>X<sub>i,j</sub><sup>T</sup></i>, where this time however, X<i><sub>i,j</sub></i> is the subset of the feature vectors of `X` that have the class labels _i_ and _j_. I denoted the resulting matrix of this method as <i>A<sub>i, j</sub></i>.  The method __`compute_betas_pair`__ calculates the beta vectors, <i>β<sub>i,j</sub></i>, by multiplying the matrix <i>A<sub>i,j</sub></i> with <i>y<sub>i,j</sub></i>."
   ]
  },
  {
   "cell_type": "code",
   "execution_count": 27,
   "metadata": {},
   "outputs": [],
   "source": [
    "def A_pair(X_subset):\n",
    "    \"\"\"\n",
    "    Calculates the matrix A_{i,j}, where \n",
    "        A_{i,j} = (X_{i,j}^T*X_{i,j})^-1(X_{i,j}^T)\n",
    "    \"\"\"\n",
    "    inner_prod = X_subset.T.dot(X_subset)\n",
    "    outer_prod = np.linalg.pinv(inner_prod).dot(X_subset.T)\n",
    "    return outer_prod"
   ]
  },
  {
   "cell_type": "code",
   "execution_count": 28,
   "metadata": {},
   "outputs": [],
   "source": [
    "def compute_betas_pair(X, targets, tuples):\n",
    "    \"\"\"\n",
    "    Calculates B_{i,j} for each pair i and j, and stores them into a list \n",
    "    that is returned\n",
    "    \n",
    "    B_{i,j} is determined by multiplying the matrix A_{i,j} with y_{i,j}\n",
    "    \"\"\"\n",
    "    betas = []\n",
    "    for i, _tuple in enumerate(tuples):\n",
    "        A_matrix = A(X[(y == _tuple[0]) | (y == _tuple[1])])\n",
    "        beta = A_matrix.dot(targets[i])\n",
    "        betas.append(beta)\n",
    "    return betas"
   ]
  },
  {
   "cell_type": "markdown",
   "metadata": {},
   "source": [
    "### Running the One vs One Classifier\n",
    "Now with all the helper functions defined, I wrote the following method, __`one_vs_one_classify`__, to perform One vs One Classification using the training set, `X`,  of 60,000 images. In this method, after training the classifiers, I tested the model using the test set, `X_test`, of 10,000 images and returned an array of the predicted labels for every image in the test set."
   ]
  },
  {
   "cell_type": "code",
   "execution_count": 29,
   "metadata": {},
   "outputs": [],
   "source": [
    "def one_vs_one_classify():\n",
    "    \"\"\"\n",
    "    The classification model uses the the training set, X, to train a \n",
    "    least squares Boolean classifier on every pair of classes i, j in \n",
    "    K classes\n",
    "    \n",
    "    Once trained, every image of the test set, X_test, is passed to each of\n",
    "    the K(K-1)/2 Boolean classifiers\n",
    "    \"\"\"\n",
    "    \n",
    "    # Create a list of pairs for K classes\n",
    "    K = 10\n",
    "    tuples = tuple_list(K)\n",
    "    \n",
    "    # Append 1's to X and X_test\n",
    "    design_matrix_train = append_ones(X)\n",
    "    design_matrix_test = append_ones(X_test)\n",
    "    \n",
    "    # Determine target vectors, y_{i,j}, and store into list\n",
    "    targets = compute_targets_pair(tuples)\n",
    "    # Determine vectors B_{i,j} and store into list\n",
    "    betas = compute_betas_pair(design_matrix_train, targets, tuples)   \n",
    "    \n",
    "    # Initialize list for predicted labels\n",
    "    predicted_y = np.zeros(len(y_test))\n",
    "    \n",
    "    # Iterate through images in test set\n",
    "    for i in range(len(X_test)):\n",
    "        # Initalize list for the votes\n",
    "        votes = [0] * 10\n",
    "        # Apply each classifier to image\n",
    "        for j, _tuple in enumerate(tuples):\n",
    "            sign = np.sign(design_matrix_test[i].dot(betas[j]))\n",
    "            # Depending on outcome of classifier, increment vote of appropriate class\n",
    "            if sign > 0:\n",
    "                votes[_tuple[0]]+=1\n",
    "            else:\n",
    "                votes[_tuple[1]]+=1\n",
    "        #predicted_y[i] = votes.index(max(votes))\n",
    "        predicted_y[i] = np.argmax(votes)\n",
    "    return predicted_y"
   ]
  },
  {
   "cell_type": "code",
   "execution_count": 31,
   "metadata": {},
   "outputs": [
    {
     "name": "stdout",
     "output_type": "stream",
     "text": [
      "Total runtime for One vs One Classification was 59.31 seconds\n"
     ]
    }
   ],
   "source": [
    "# RUN THIS CELL TO PERFORM ONE VS ONE CLASSIFICATION\n",
    "start = time.time()\n",
    "one_vs_one_predicted = one_vs_one_classify()\n",
    "end = time.time()\n",
    "print('Total runtime for One vs One Classification was {} seconds'.format(round(end - start, 2)))"
   ]
  },
  {
   "cell_type": "markdown",
   "metadata": {},
   "source": [
    "### Confusion Matrix\n",
    "The predicted labels are stored in `one_vs_one_predicted` which we pass in to our confusion matrix function along with the test labels, `y_test`."
   ]
  },
  {
   "cell_type": "code",
   "execution_count": 32,
   "metadata": {},
   "outputs": [
    {
     "name": "stdout",
     "output_type": "stream",
     "text": [
      "[[ 961    0    1    1    0    6    8    3    0    0]\n",
      " [   0 1120    3    3    1    1    4    1    2    0]\n",
      " [   9   18  936   12   10    5   10   10   22    0]\n",
      " [   9    1   18  926    2   20    1    7   21    5]\n",
      " [   2    4    6    1  931    1    7    4    3   23]\n",
      " [   7    5    3   30    8  800   17    2   15    5]\n",
      " [   6    5   12    0    5   19  908    1    2    0]\n",
      " [   1   16   17    3   11    1    0  955    1   23]\n",
      " [   7   17    8   23   10   36   10   10  840   13]\n",
      " [   6    5    1   11   30   12    0   21    3  920]]\n"
     ]
    }
   ],
   "source": [
    "# RUN THIS CELL TO PRINT OUT A CONFUSION MATRIX FOR ONE VS ONE\n",
    "one_vs_one_confusion = confusion_matrix(y_test, one_vs_one_predicted)\n",
    "print(one_vs_one_confusion)"
   ]
  },
  {
   "cell_type": "markdown",
   "metadata": {},
   "source": [
    "A visual representation of the confusion matrix as a heatmap is as follows."
   ]
  },
  {
   "cell_type": "code",
   "execution_count": 33,
   "metadata": {},
   "outputs": [
    {
     "data": {
      "image/png": "[encoded data removed]",
      "text/plain": [
       "<Figure size 648x360 with 2 Axes>"
      ]
     },
     "metadata": {
      "needs_background": "light"
     },
     "output_type": "display_data"
    }
   ],
   "source": [
    "# RUN THIS CELL TO PRODUCE A HEATMAP OF THE CONFUSION MATRIX\n",
    "viz_confusion(one_vs_one_confusion, 'One vs One Classifer')"
   ]
  },
  {
   "cell_type": "markdown",
   "metadata": {},
   "source": [
    "### Error Rate\n",
    "The error rate can be computed below."
   ]
  },
  {
   "cell_type": "code",
   "execution_count": 34,
   "metadata": {},
   "outputs": [
    {
     "name": "stdout",
     "output_type": "stream",
     "text": [
      "The error rate for One vs One Classification is 7.03%\n"
     ]
    }
   ],
   "source": [
    "# RUN THIS CELL TO COMPUTE AN ERROR RATE FOR THE CLASSIFIER\n",
    "error_rate = err_rate(one_vs_one_confusion)\n",
    "print('The error rate for One vs One Classification is {}%'.format(round(error_rate, 2)))"
   ]
  },
  {
   "cell_type": "markdown",
   "metadata": {},
   "source": [
    "### Evaluation of One vs One Classifier\n",
    "The error rate on the test set was approximately 7.03%. Considering that the Boolean classifiers were trained using only on the training set, I would say One vs One classification was extremely succesful in generalizing on the test data set, more so than the One vs All classifier which produced an almost doubled the error rate. I think the reason behind why this classifier was a little more successful is because of the \"voting\" intuition behind the classification. Each classifier \"votes\" on if the image belongs to a class _i_ or _j_. And since there are K(K-1)/2 classifiers in total that work to differentiate between every pair _i_, _j_ in K, an image in the test set of class _i_ can be more confidently classified as class _i_. Thus, this model will be less sensitive to misclassification.  \n",
    "\n",
    "The most common error corresponds to when the digit _8_, was predicted to be _5_. Likewise to the One vs All Classifier, this classification method also had trouble in differentiating between _9_ and _4_, and _5_ and _3_.\n",
    "\n",
    "As for computational performance, I followed the same technique as above where I saved my beta vectors to a global scope once calculated before testing the images in my test set. This time around, there were 45 classifiers in total, so the runtime was longer, fluctuating between 47-60 seconds."
   ]
  },
  {
   "cell_type": "markdown",
   "metadata": {},
   "source": [
    "## Comparing Both Classifiers\n",
    "The error rate for the One vs All Classification was determined to be 13.97% while the error rate for the One vs One Classification was 7.03%. The intuition behind this difference is largely due to the way each classifier is implemented. As dicussed above, the One vs All Classifer is only determining whether an image in the test set is either \"is\" or \"is not\" a digit. That means the target vector for each digit contains +1 if the associated feature vector in the training set is of class k, or -1 if it isn't. This leads to an unbalanced distribution as the set of -1's are far larger than the set of +1's. Thus, it is harder to establish an accurate decision boundary separating the images of a specific digit and the rest of the dataset, especially if the digits are closer together in the 784-vector space (as 9 and 4, 9 and 7 seem to be).\n",
    "\n",
    "One vs One Classification curbs this problem by creating a decision boundary separating every unique pair of classes _i_ and _j_ in K classes. This would solve the issue of unbalanced distribution since the quantities of each digit seem to be roughly equal. \n",
    "\n",
    "Computationally speaking, implementing 45 classifiers compared to 10 is definitely more expensive, proven by the stark difference in the runtime."
   ]
  }
 ],
 "metadata": {
  "kernelspec": {
   "display_name": "Python 3",
   "language": "python",
   "name": "python3"
  },
  "language_info": {
   "codemirror_mode": {
    "name": "ipython",
    "version": 3
   },
   "file_extension": ".py",
   "mimetype": "text/x-python",
   "name": "python",
   "nbconvert_exporter": "python",
   "pygments_lexer": "ipython3",
   "version": "3.8.3"
  }
 },
 "nbformat": 4,
 "nbformat_minor": 4
}
